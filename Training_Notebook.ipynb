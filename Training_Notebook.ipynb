{
  "nbformat": 4,
  "nbformat_minor": 0,
  "metadata": {
    "colab": {
      "name": "Training_Notebook_08042020.ipynb",
      "provenance": [],
      "collapsed_sections": []
    },
    "kernelspec": {
      "name": "python3",
      "display_name": "Python 3"
    },
    "accelerator": "GPU",
    "widgets": {
      "application/vnd.jupyter.widget-state+json": {
        "bb08b405190e4d77bea7b161e2455d9d": {
          "model_module": "@jupyter-widgets/controls",
          "model_name": "HBoxModel",
          "state": {
            "_view_name": "HBoxView",
            "_dom_classes": [],
            "_model_name": "HBoxModel",
            "_view_module": "@jupyter-widgets/controls",
            "_model_module_version": "1.5.0",
            "_view_count": null,
            "_view_module_version": "1.5.0",
            "box_style": "",
            "layout": "IPY_MODEL_765e2c7cc2c24aa9aa73f3fc857ff5b0",
            "_model_module": "@jupyter-widgets/controls",
            "children": [
              "IPY_MODEL_388979b3965f446bacff124022a34bc5",
              "IPY_MODEL_de0d26ee5c384a2299cc1ef6f3e9eb10"
            ]
          }
        },
        "765e2c7cc2c24aa9aa73f3fc857ff5b0": {
          "model_module": "@jupyter-widgets/base",
          "model_name": "LayoutModel",
          "state": {
            "_view_name": "LayoutView",
            "grid_template_rows": null,
            "right": null,
            "justify_content": null,
            "_view_module": "@jupyter-widgets/base",
            "overflow": null,
            "_model_module_version": "1.2.0",
            "_view_count": null,
            "flex_flow": null,
            "width": null,
            "min_width": null,
            "border": null,
            "align_items": null,
            "bottom": null,
            "_model_module": "@jupyter-widgets/base",
            "top": null,
            "grid_column": null,
            "overflow_y": null,
            "overflow_x": null,
            "grid_auto_flow": null,
            "grid_area": null,
            "grid_template_columns": null,
            "flex": null,
            "_model_name": "LayoutModel",
            "justify_items": null,
            "grid_row": null,
            "max_height": null,
            "align_content": null,
            "visibility": null,
            "align_self": null,
            "height": null,
            "min_height": null,
            "padding": null,
            "grid_auto_rows": null,
            "grid_gap": null,
            "max_width": null,
            "order": null,
            "_view_module_version": "1.2.0",
            "grid_template_areas": null,
            "object_position": null,
            "object_fit": null,
            "grid_auto_columns": null,
            "margin": null,
            "display": null,
            "left": null
          }
        },
        "388979b3965f446bacff124022a34bc5": {
          "model_module": "@jupyter-widgets/controls",
          "model_name": "IntProgressModel",
          "state": {
            "_view_name": "ProgressView",
            "style": "IPY_MODEL_3195f2640d014763adfc54377d1df5d6",
            "_dom_classes": [],
            "description": "",
            "_model_name": "IntProgressModel",
            "bar_style": "info",
            "max": 1,
            "_view_module": "@jupyter-widgets/controls",
            "_model_module_version": "1.5.0",
            "value": 1,
            "_view_count": null,
            "_view_module_version": "1.5.0",
            "orientation": "horizontal",
            "min": 0,
            "description_tooltip": null,
            "_model_module": "@jupyter-widgets/controls",
            "layout": "IPY_MODEL_658b94cb38394de695e2ffa35194a3e3"
          }
        },
        "de0d26ee5c384a2299cc1ef6f3e9eb10": {
          "model_module": "@jupyter-widgets/controls",
          "model_name": "HTMLModel",
          "state": {
            "_view_name": "HTMLView",
            "style": "IPY_MODEL_712035ac666a4f1b8a6dde4b9b512011",
            "_dom_classes": [],
            "description": "",
            "_model_name": "HTMLModel",
            "placeholder": "​",
            "_view_module": "@jupyter-widgets/controls",
            "_model_module_version": "1.5.0",
            "value": " 170500096/? [00:19&lt;00:00, 32116256.63it/s]",
            "_view_count": null,
            "_view_module_version": "1.5.0",
            "description_tooltip": null,
            "_model_module": "@jupyter-widgets/controls",
            "layout": "IPY_MODEL_0d1eeacccb3a4da2a4cbcf62c9e2f5b1"
          }
        },
        "3195f2640d014763adfc54377d1df5d6": {
          "model_module": "@jupyter-widgets/controls",
          "model_name": "ProgressStyleModel",
          "state": {
            "_view_name": "StyleView",
            "_model_name": "ProgressStyleModel",
            "description_width": "initial",
            "_view_module": "@jupyter-widgets/base",
            "_model_module_version": "1.5.0",
            "_view_count": null,
            "_view_module_version": "1.2.0",
            "bar_color": null,
            "_model_module": "@jupyter-widgets/controls"
          }
        },
        "658b94cb38394de695e2ffa35194a3e3": {
          "model_module": "@jupyter-widgets/base",
          "model_name": "LayoutModel",
          "state": {
            "_view_name": "LayoutView",
            "grid_template_rows": null,
            "right": null,
            "justify_content": null,
            "_view_module": "@jupyter-widgets/base",
            "overflow": null,
            "_model_module_version": "1.2.0",
            "_view_count": null,
            "flex_flow": null,
            "width": null,
            "min_width": null,
            "border": null,
            "align_items": null,
            "bottom": null,
            "_model_module": "@jupyter-widgets/base",
            "top": null,
            "grid_column": null,
            "overflow_y": null,
            "overflow_x": null,
            "grid_auto_flow": null,
            "grid_area": null,
            "grid_template_columns": null,
            "flex": null,
            "_model_name": "LayoutModel",
            "justify_items": null,
            "grid_row": null,
            "max_height": null,
            "align_content": null,
            "visibility": null,
            "align_self": null,
            "height": null,
            "min_height": null,
            "padding": null,
            "grid_auto_rows": null,
            "grid_gap": null,
            "max_width": null,
            "order": null,
            "_view_module_version": "1.2.0",
            "grid_template_areas": null,
            "object_position": null,
            "object_fit": null,
            "grid_auto_columns": null,
            "margin": null,
            "display": null,
            "left": null
          }
        },
        "712035ac666a4f1b8a6dde4b9b512011": {
          "model_module": "@jupyter-widgets/controls",
          "model_name": "DescriptionStyleModel",
          "state": {
            "_view_name": "StyleView",
            "_model_name": "DescriptionStyleModel",
            "description_width": "",
            "_view_module": "@jupyter-widgets/base",
            "_model_module_version": "1.5.0",
            "_view_count": null,
            "_view_module_version": "1.2.0",
            "_model_module": "@jupyter-widgets/controls"
          }
        },
        "0d1eeacccb3a4da2a4cbcf62c9e2f5b1": {
          "model_module": "@jupyter-widgets/base",
          "model_name": "LayoutModel",
          "state": {
            "_view_name": "LayoutView",
            "grid_template_rows": null,
            "right": null,
            "justify_content": null,
            "_view_module": "@jupyter-widgets/base",
            "overflow": null,
            "_model_module_version": "1.2.0",
            "_view_count": null,
            "flex_flow": null,
            "width": null,
            "min_width": null,
            "border": null,
            "align_items": null,
            "bottom": null,
            "_model_module": "@jupyter-widgets/base",
            "top": null,
            "grid_column": null,
            "overflow_y": null,
            "overflow_x": null,
            "grid_auto_flow": null,
            "grid_area": null,
            "grid_template_columns": null,
            "flex": null,
            "_model_name": "LayoutModel",
            "justify_items": null,
            "grid_row": null,
            "max_height": null,
            "align_content": null,
            "visibility": null,
            "align_self": null,
            "height": null,
            "min_height": null,
            "padding": null,
            "grid_auto_rows": null,
            "grid_gap": null,
            "max_width": null,
            "order": null,
            "_view_module_version": "1.2.0",
            "grid_template_areas": null,
            "object_position": null,
            "object_fit": null,
            "grid_auto_columns": null,
            "margin": null,
            "display": null,
            "left": null
          }
        }
      }
    }
  },
  "cells": [
    {
      "cell_type": "code",
      "metadata": {
        "id": "bgA6iAScdNqQ",
        "colab_type": "code",
        "outputId": "f5b17408-ec1c-4c2e-9631-636563186dd8",
        "colab": {
          "base_uri": "https://localhost:8080/",
          "height": 121
        }
      },
      "source": [
        "from google.colab import drive\n",
        "drive.mount('/gdrive')"
      ],
      "execution_count": 1,
      "outputs": [
        {
          "output_type": "stream",
          "text": [
            "Go to this URL in a browser: https://accounts.google.com/o/oauth2/auth?client_id=947318989803-6bn6qk8qdgf4n4g3pfee6491hc0brc4i.apps.googleusercontent.com&redirect_uri=urn%3aietf%3awg%3aoauth%3a2.0%3aoob&response_type=code&scope=email%20https%3a%2f%2fwww.googleapis.com%2fauth%2fdocs.test%20https%3a%2f%2fwww.googleapis.com%2fauth%2fdrive%20https%3a%2f%2fwww.googleapis.com%2fauth%2fdrive.photos.readonly%20https%3a%2f%2fwww.googleapis.com%2fauth%2fpeopleapi.readonly\n",
            "\n",
            "Enter your authorization code:\n",
            "··········\n",
            "Mounted at /gdrive\n"
          ],
          "name": "stdout"
        }
      ]
    },
    {
      "cell_type": "code",
      "metadata": {
        "id": "zUEU8psPeCGX",
        "colab_type": "code",
        "colab": {}
      },
      "source": [
        "from pydrive.auth import GoogleAuth\n",
        "from pydrive.drive import GoogleDrive\n",
        "from google.colab import auth\n",
        "from oauth2client.client import GoogleCredentials"
      ],
      "execution_count": 0,
      "outputs": []
    },
    {
      "cell_type": "code",
      "metadata": {
        "id": "yM5LLsZ0eJWF",
        "colab_type": "code",
        "colab": {}
      },
      "source": [
        "auth.authenticate_user()\n",
        "gauth = GoogleAuth()\n",
        "gauth.credentials = GoogleCredentials.get_application_default()\n",
        "drive = GoogleDrive(gauth)"
      ],
      "execution_count": 0,
      "outputs": []
    },
    {
      "cell_type": "code",
      "metadata": {
        "id": "WABdVKfJeSj_",
        "colab_type": "code",
        "colab": {}
      },
      "source": [
        "# Import CIFAR10 dataset from training_data.py file:\n",
        "# Function name: Cifar10Data\n",
        "\n",
        "your_module = drive.CreateFile({'id':'1TXsxEMzPcqI5nUuBBM7lWnEwGxbire35'})\n",
        "\n",
        "your_module.GetContentFile('training_data.py')"
      ],
      "execution_count": 0,
      "outputs": []
    },
    {
      "cell_type": "code",
      "metadata": {
        "id": "qaSb9ijJfM_N",
        "colab_type": "code",
        "colab": {}
      },
      "source": [
        "import training_data"
      ],
      "execution_count": 0,
      "outputs": []
    },
    {
      "cell_type": "code",
      "metadata": {
        "id": "boqp01S_fSZN",
        "colab_type": "code",
        "outputId": "b206778d-0fbf-472e-f628-d2190e960741",
        "colab": {
          "base_uri": "https://localhost:8080/",
          "height": 99,
          "referenced_widgets": [
            "bb08b405190e4d77bea7b161e2455d9d",
            "765e2c7cc2c24aa9aa73f3fc857ff5b0",
            "388979b3965f446bacff124022a34bc5",
            "de0d26ee5c384a2299cc1ef6f3e9eb10",
            "3195f2640d014763adfc54377d1df5d6",
            "658b94cb38394de695e2ffa35194a3e3",
            "712035ac666a4f1b8a6dde4b9b512011",
            "0d1eeacccb3a4da2a4cbcf62c9e2f5b1"
          ]
        }
      },
      "source": [
        "data = training_data.Cifar10Data()"
      ],
      "execution_count": 6,
      "outputs": [
        {
          "output_type": "stream",
          "text": [
            "Downloading https://www.cs.toronto.edu/~kriz/cifar-10-python.tar.gz to data/cifar-10-python.tar.gz\n"
          ],
          "name": "stdout"
        },
        {
          "output_type": "display_data",
          "data": {
            "application/vnd.jupyter.widget-view+json": {
              "model_id": "bb08b405190e4d77bea7b161e2455d9d",
              "version_minor": 0,
              "version_major": 2
            },
            "text/plain": [
              "HBox(children=(IntProgress(value=1, bar_style='info', max=1), HTML(value='')))"
            ]
          },
          "metadata": {
            "tags": []
          }
        },
        {
          "output_type": "stream",
          "text": [
            "Extracting data/cifar-10-python.tar.gz to data/\n",
            "Files already downloaded and verified\n"
          ],
          "name": "stdout"
        }
      ]
    },
    {
      "cell_type": "code",
      "metadata": {
        "id": "QVDhP5IlfjJ7",
        "colab_type": "code",
        "outputId": "22ef957d-699b-4259-e2e4-ba4b1f91b851",
        "colab": {
          "base_uri": "https://localhost:8080/",
          "height": 34
        }
      },
      "source": [
        "print(data.num_classes)"
      ],
      "execution_count": 7,
      "outputs": [
        {
          "output_type": "stream",
          "text": [
            "10\n"
          ],
          "name": "stdout"
        }
      ]
    },
    {
      "cell_type": "code",
      "metadata": {
        "id": "Nwrl2cY7fuF0",
        "colab_type": "code",
        "colab": {}
      },
      "source": [
        "# Import Googlenet function from googlenet.py file\n",
        "\n",
        "your_module_1 = drive.CreateFile({'id':'1BFjKV6xTZ4yO_C01OgjoT6KFAZa2p4hD'})\n",
        "\n",
        "your_module_1.GetContentFile('googlenet.py')"
      ],
      "execution_count": 0,
      "outputs": []
    },
    {
      "cell_type": "code",
      "metadata": {
        "id": "YvZYeV8kg3g7",
        "colab_type": "code",
        "colab": {}
      },
      "source": [
        "# Import get_model function from build_model.py file:\n",
        "\n",
        "your_module_1 = drive.CreateFile({'id':'13oD2VOUTIr9RsUpewQRIVXmJQ0bU_VKk'})\n",
        "\n",
        "your_module_1.GetContentFile('build_model.py')"
      ],
      "execution_count": 0,
      "outputs": []
    },
    {
      "cell_type": "code",
      "metadata": {
        "id": "Jjd2MqNuhuw7",
        "colab_type": "code",
        "colab": {}
      },
      "source": [
        "import build_model"
      ],
      "execution_count": 0,
      "outputs": []
    },
    {
      "cell_type": "code",
      "metadata": {
        "id": "VGhAxcNqhzsA",
        "colab_type": "code",
        "outputId": "2b400b0f-c0df-4c2a-b0e0-817e08c96f79",
        "colab": {
          "base_uri": "https://localhost:8080/",
          "height": 67
        }
      },
      "source": [
        "model = build_model.getModel(training = True)"
      ],
      "execution_count": 11,
      "outputs": [
        {
          "output_type": "stream",
          "text": [
            "The model is in training mode\n",
            "No of params in model is  1844082\n",
            "model is loaded on GPU True\n"
          ],
          "name": "stdout"
        }
      ]
    },
    {
      "cell_type": "code",
      "metadata": {
        "id": "XB2JBfgliBOh",
        "colab_type": "code",
        "colab": {}
      },
      "source": [
        "# Import training.py file to get the training_model and we use getModel function & Cifar10Data function):\n",
        "\n",
        "your_module_1 = drive.CreateFile({'id':'1CTss3ck4OpXTojqm0vY2Q_HZrYgMLCne'})\n",
        "\n",
        "your_module_1.GetContentFile('training.py')"
      ],
      "execution_count": 0,
      "outputs": []
    },
    {
      "cell_type": "code",
      "metadata": {
        "id": "hFrmjXrPjUt9",
        "colab_type": "code",
        "colab": {}
      },
      "source": [
        "from training import train_model"
      ],
      "execution_count": 0,
      "outputs": []
    },
    {
      "cell_type": "code",
      "metadata": {
        "id": "Bgyre8LojY6M",
        "colab_type": "code",
        "outputId": "f579250a-618d-4d8d-cba8-f6b589a40d81",
        "colab": {
          "base_uri": "https://localhost:8080/",
          "height": 756
        }
      },
      "source": [
        "train_model(model, data.dataloader(), num_epochs = 30)"
      ],
      "execution_count": 14,
      "outputs": [
        {
          "output_type": "stream",
          "text": [
            "\rEpochs:   0%|          | 0/30 [00:00<?, ?it/s]"
          ],
          "name": "stderr"
        },
        {
          "output_type": "stream",
          "text": [
            "src/saved_weights/saved_weights.pt\n"
          ],
          "name": "stdout"
        },
        {
          "output_type": "stream",
          "text": [
            "\rEpochs:   3%|▎         | 1/30 [01:38<47:30, 98.29s/it]"
          ],
          "name": "stderr"
        },
        {
          "output_type": "stream",
          "text": [
            "Saving the current best model. Previous best loss = inf Current best loss = 1.0879168947219848\n",
            "[ Epochs 0 | 30 ] :  train Loss: 1.4179 Acc: 0.4835 val Loss: 1.0879 Acc: 0.6139\n"
          ],
          "name": "stdout"
        },
        {
          "output_type": "stream",
          "text": [
            "\rEpochs:   7%|▋         | 2/30 [03:16<45:49, 98.19s/it]"
          ],
          "name": "stderr"
        },
        {
          "output_type": "stream",
          "text": [
            "Saving the current best model. Previous best loss = 1.0879168947219848 Current best loss = 0.8000544173240661\n",
            "[ Epochs 1 | 30 ] :  train Loss: 0.9054 Acc: 0.6810 val Loss: 0.8001 Acc: 0.7148\n"
          ],
          "name": "stdout"
        },
        {
          "output_type": "stream",
          "text": [
            "\rEpochs:  10%|█         | 3/30 [04:54<44:08, 98.08s/it]"
          ],
          "name": "stderr"
        },
        {
          "output_type": "stream",
          "text": [
            "Saving the current best model. Previous best loss = 0.8000544173240661 Current best loss = 0.7217270231246948\n",
            "[ Epochs 2 | 30 ] :  train Loss: 0.7191 Acc: 0.7501 val Loss: 0.7217 Acc: 0.7555\n"
          ],
          "name": "stdout"
        },
        {
          "output_type": "stream",
          "text": [
            "\rEpochs:  13%|█▎        | 4/30 [06:32<42:29, 98.05s/it]"
          ],
          "name": "stderr"
        },
        {
          "output_type": "stream",
          "text": [
            "Saving the current best model. Previous best loss = 0.7217270231246948 Current best loss = 0.6164438800811768\n",
            "[ Epochs 3 | 30 ] :  train Loss: 0.6091 Acc: 0.7897 val Loss: 0.6164 Acc: 0.7938\n"
          ],
          "name": "stdout"
        },
        {
          "output_type": "stream",
          "text": [
            "\rEpochs:  17%|█▋        | 5/30 [08:10<40:51, 98.05s/it]"
          ],
          "name": "stderr"
        },
        {
          "output_type": "stream",
          "text": [
            "[ Epochs 4 | 30 ] :  train Loss: 0.5298 Acc: 0.8191 val Loss: 0.6890 Acc: 0.7632\n"
          ],
          "name": "stdout"
        },
        {
          "output_type": "stream",
          "text": [
            "\rEpochs:  20%|██        | 6/30 [09:48<39:13, 98.07s/it]"
          ],
          "name": "stderr"
        },
        {
          "output_type": "stream",
          "text": [
            "Saving the current best model. Previous best loss = 0.6164438800811768 Current best loss = 0.5169569478988647\n",
            "[ Epochs 5 | 30 ] :  train Loss: 0.4746 Acc: 0.8352 val Loss: 0.5170 Acc: 0.8215\n"
          ],
          "name": "stdout"
        },
        {
          "output_type": "stream",
          "text": [
            "\rEpochs:  23%|██▎       | 7/30 [11:26<37:35, 98.07s/it]"
          ],
          "name": "stderr"
        },
        {
          "output_type": "stream",
          "text": [
            "[ Epochs 6 | 30 ] :  train Loss: 0.4359 Acc: 0.8520 val Loss: 0.5409 Acc: 0.8204\n"
          ],
          "name": "stdout"
        },
        {
          "output_type": "stream",
          "text": [
            "\rEpochs:  27%|██▋       | 8/30 [13:04<35:57, 98.08s/it]"
          ],
          "name": "stderr"
        },
        {
          "output_type": "stream",
          "text": [
            "Saving the current best model. Previous best loss = 0.5169569478988647 Current best loss = 0.4865549838066101\n",
            "[ Epochs 7 | 30 ] :  train Loss: 0.3993 Acc: 0.8630 val Loss: 0.4866 Acc: 0.8396\n"
          ],
          "name": "stdout"
        },
        {
          "output_type": "stream",
          "text": [
            "\rEpochs:  30%|███       | 9/30 [14:42<34:20, 98.11s/it]"
          ],
          "name": "stderr"
        },
        {
          "output_type": "stream",
          "text": [
            "Saving the current best model. Previous best loss = 0.4865549838066101 Current best loss = 0.47201270360946657\n",
            "[ Epochs 8 | 30 ] :  train Loss: 0.3750 Acc: 0.8711 val Loss: 0.4720 Acc: 0.8374\n"
          ],
          "name": "stdout"
        },
        {
          "output_type": "stream",
          "text": [
            "\rEpochs:  33%|███▎      | 10/30 [16:20<32:42, 98.14s/it]"
          ],
          "name": "stderr"
        },
        {
          "output_type": "stream",
          "text": [
            "Saving the current best model. Previous best loss = 0.47201270360946657 Current best loss = 0.43827112505435945\n",
            "[ Epochs 9 | 30 ] :  train Loss: 0.3419 Acc: 0.8829 val Loss: 0.4383 Acc: 0.8553\n"
          ],
          "name": "stdout"
        },
        {
          "output_type": "stream",
          "text": [
            "\rEpochs:  37%|███▋      | 11/30 [17:58<31:04, 98.13s/it]"
          ],
          "name": "stderr"
        },
        {
          "output_type": "stream",
          "text": [
            "[ Epochs 10 | 30 ] :  train Loss: 0.3243 Acc: 0.8892 val Loss: 0.5182 Acc: 0.8364\n"
          ],
          "name": "stdout"
        },
        {
          "output_type": "stream",
          "text": [
            "\rEpochs:  40%|████      | 12/30 [19:37<29:26, 98.13s/it]"
          ],
          "name": "stderr"
        },
        {
          "output_type": "stream",
          "text": [
            "Saving the current best model. Previous best loss = 0.43827112505435945 Current best loss = 0.338608482837677\n",
            "[ Epochs 11 | 30 ] :  train Loss: 0.2976 Acc: 0.8982 val Loss: 0.3386 Acc: 0.8860\n"
          ],
          "name": "stdout"
        },
        {
          "output_type": "stream",
          "text": [
            "\rEpochs:  43%|████▎     | 13/30 [21:15<27:48, 98.15s/it]"
          ],
          "name": "stderr"
        },
        {
          "output_type": "stream",
          "text": [
            "[ Epochs 12 | 30 ] :  train Loss: 0.2838 Acc: 0.9022 val Loss: 0.3539 Acc: 0.8793\n"
          ],
          "name": "stdout"
        },
        {
          "output_type": "stream",
          "text": [
            "\rEpochs:  47%|████▋     | 14/30 [22:53<26:10, 98.17s/it]"
          ],
          "name": "stderr"
        },
        {
          "output_type": "stream",
          "text": [
            "[ Epochs 13 | 30 ] :  train Loss: 0.2680 Acc: 0.9084 val Loss: 0.5097 Acc: 0.8362\n"
          ],
          "name": "stdout"
        },
        {
          "output_type": "stream",
          "text": [
            "\rEpochs:  50%|█████     | 15/30 [24:31<24:32, 98.19s/it]"
          ],
          "name": "stderr"
        },
        {
          "output_type": "stream",
          "text": [
            "Saving the current best model. Previous best loss = 0.338608482837677 Current best loss = 0.3222847972869873\n",
            "[ Epochs 14 | 30 ] :  train Loss: 0.2568 Acc: 0.9105 val Loss: 0.3223 Acc: 0.8921\n"
          ],
          "name": "stdout"
        },
        {
          "output_type": "stream",
          "text": [
            "\rEpochs:  53%|█████▎    | 16/30 [26:09<22:54, 98.19s/it]"
          ],
          "name": "stderr"
        },
        {
          "output_type": "stream",
          "text": [
            "[ Epochs 15 | 30 ] :  train Loss: 0.2452 Acc: 0.9139 val Loss: 0.3717 Acc: 0.8763\n"
          ],
          "name": "stdout"
        },
        {
          "output_type": "stream",
          "text": [
            "\rEpochs:  57%|█████▋    | 17/30 [27:48<21:16, 98.18s/it]"
          ],
          "name": "stderr"
        },
        {
          "output_type": "stream",
          "text": [
            "[ Epochs 16 | 30 ] :  train Loss: 0.2283 Acc: 0.9208 val Loss: 0.3537 Acc: 0.8860\n"
          ],
          "name": "stdout"
        },
        {
          "output_type": "stream",
          "text": [
            "\rEpochs:  60%|██████    | 18/30 [29:26<19:38, 98.18s/it]"
          ],
          "name": "stderr"
        },
        {
          "output_type": "stream",
          "text": [
            "[ Epochs 17 | 30 ] :  train Loss: 0.2211 Acc: 0.9228 val Loss: 0.3299 Acc: 0.8940\n"
          ],
          "name": "stdout"
        },
        {
          "output_type": "stream",
          "text": [
            "\rEpochs:  63%|██████▎   | 19/30 [31:04<17:59, 98.14s/it]"
          ],
          "name": "stderr"
        },
        {
          "output_type": "stream",
          "text": [
            "[ Epochs 18 | 30 ] :  train Loss: 0.2080 Acc: 0.9272 val Loss: 0.3451 Acc: 0.8896\n"
          ],
          "name": "stdout"
        },
        {
          "output_type": "stream",
          "text": [
            "\rEpochs:  67%|██████▋   | 20/30 [32:42<16:20, 98.09s/it]"
          ],
          "name": "stderr"
        },
        {
          "output_type": "stream",
          "text": [
            "Saving the current best model. Previous best loss = 0.3222847972869873 Current best loss = 0.32014431610107424\n",
            "[ Epochs 19 | 30 ] :  train Loss: 0.1956 Acc: 0.9326 val Loss: 0.3201 Acc: 0.8966\n"
          ],
          "name": "stdout"
        },
        {
          "output_type": "stream",
          "text": [
            "\rEpochs:  70%|███████   | 21/30 [34:20<14:42, 98.01s/it]"
          ],
          "name": "stderr"
        },
        {
          "output_type": "stream",
          "text": [
            "[ Epochs 20 | 30 ] :  train Loss: 0.1873 Acc: 0.9350 val Loss: 0.3587 Acc: 0.8867\n"
          ],
          "name": "stdout"
        },
        {
          "output_type": "stream",
          "text": [
            "\rEpochs:  73%|███████▎  | 22/30 [35:58<13:04, 98.01s/it]"
          ],
          "name": "stderr"
        },
        {
          "output_type": "stream",
          "text": [
            "[ Epochs 21 | 30 ] :  train Loss: 0.1856 Acc: 0.9356 val Loss: 0.4306 Acc: 0.8714\n"
          ],
          "name": "stdout"
        },
        {
          "output_type": "stream",
          "text": [
            "\rEpochs:  77%|███████▋  | 23/30 [37:36<11:26, 98.00s/it]"
          ],
          "name": "stderr"
        },
        {
          "output_type": "stream",
          "text": [
            "Saving the current best model. Previous best loss = 0.32014431610107424 Current best loss = 0.2969168293952942\n",
            "[ Epochs 22 | 30 ] :  train Loss: 0.1741 Acc: 0.9399 val Loss: 0.2969 Acc: 0.9046\n"
          ],
          "name": "stdout"
        },
        {
          "output_type": "stream",
          "text": [
            "\rEpochs:  80%|████████  | 24/30 [39:14<09:48, 98.00s/it]"
          ],
          "name": "stderr"
        },
        {
          "output_type": "stream",
          "text": [
            "[ Epochs 23 | 30 ] :  train Loss: 0.1676 Acc: 0.9416 val Loss: 0.3575 Acc: 0.8916\n"
          ],
          "name": "stdout"
        },
        {
          "output_type": "stream",
          "text": [
            "\rEpochs:  83%|████████▎ | 25/30 [40:51<08:09, 97.97s/it]"
          ],
          "name": "stderr"
        },
        {
          "output_type": "stream",
          "text": [
            "[ Epochs 24 | 30 ] :  train Loss: 0.1593 Acc: 0.9447 val Loss: 0.3213 Acc: 0.9015\n"
          ],
          "name": "stdout"
        },
        {
          "output_type": "stream",
          "text": [
            "\rEpochs:  87%|████████▋ | 26/30 [42:29<06:31, 97.97s/it]"
          ],
          "name": "stderr"
        },
        {
          "output_type": "stream",
          "text": [
            "[ Epochs 25 | 30 ] :  train Loss: 0.1589 Acc: 0.9438 val Loss: 0.3117 Acc: 0.8997\n"
          ],
          "name": "stdout"
        },
        {
          "output_type": "stream",
          "text": [
            "\rEpochs:  90%|█████████ | 27/30 [44:07<04:53, 97.96s/it]"
          ],
          "name": "stderr"
        },
        {
          "output_type": "stream",
          "text": [
            "[ Epochs 26 | 30 ] :  train Loss: 0.1483 Acc: 0.9491 val Loss: 0.3608 Acc: 0.8899\n"
          ],
          "name": "stdout"
        },
        {
          "output_type": "stream",
          "text": [
            "\rEpochs:  93%|█████████▎| 28/30 [45:45<03:15, 97.97s/it]"
          ],
          "name": "stderr"
        },
        {
          "output_type": "stream",
          "text": [
            "[ Epochs 27 | 30 ] :  train Loss: 0.1411 Acc: 0.9510 val Loss: 0.3047 Acc: 0.9053\n"
          ],
          "name": "stdout"
        },
        {
          "output_type": "stream",
          "text": [
            "\rEpochs:  97%|█████████▋| 29/30 [47:23<01:37, 97.96s/it]"
          ],
          "name": "stderr"
        },
        {
          "output_type": "stream",
          "text": [
            "[ Epochs 28 | 30 ] :  train Loss: 0.1354 Acc: 0.9529 val Loss: 0.3106 Acc: 0.9054\n"
          ],
          "name": "stdout"
        },
        {
          "output_type": "stream",
          "text": [
            "Epochs: 100%|██████████| 30/30 [49:01<00:00, 98.06s/it]"
          ],
          "name": "stderr"
        },
        {
          "output_type": "stream",
          "text": [
            "[ Epochs 29 | 30 ] :  train Loss: 0.1350 Acc: 0.9531 val Loss: 0.3475 Acc: 0.8929\n"
          ],
          "name": "stdout"
        },
        {
          "output_type": "stream",
          "text": [
            "\n"
          ],
          "name": "stderr"
        }
      ]
    }
  ]
}